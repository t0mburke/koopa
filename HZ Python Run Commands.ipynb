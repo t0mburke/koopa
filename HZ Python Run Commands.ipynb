{
 "cells": [
  {
   "cell_type": "markdown",
   "metadata": {},
   "source": [
    "# Run Scripts\n",
    "\n",
    "All saved in C:\\Users\\hzheng\\Google Drive\\Analysts\\Analyst Folders\\Howell\\Scripts\n",
    "Keep scripts in Google Drive, Jupyter can't seem to access Egnyte"
   ]
  },
  {
   "cell_type": "markdown",
   "metadata": {},
   "source": [
    "### Adjusted Panel Sales\n",
    "Run Monday, Tuesday, Wednesday morning for the Financial Services Data Analyst Team\n",
    "\n",
    "Run Wednesday night after the post-reported metrics backtest has been generated for Thursday's product delivery\n",
    "\n",
    "Make sure to \"copy as crosstab\" from the Adjusted Panel Sales Tableau workbook into the delivered Excel spreadsheet"
   ]
  },
  {
   "cell_type": "code",
   "execution_count": null,
   "metadata": {},
   "outputs": [],
   "source": [
    "C:\\Users\\hzheng\\Documents\\koopa\\QC"
   ]
  },
  {
   "cell_type": "code",
   "execution_count": 2,
   "metadata": {},
   "outputs": [
    {
     "name": "stdout",
     "output_type": "stream",
     "text": [
      "Welcome to Automated Batch Scripts\n",
      "Log into Performance Cluster\n",
      "\n",
      "\n",
      "These are the sql scripts that will be run: \n",
      "1) member_qc.sql\n",
      "2) mtf_weekly_filter_qc.sql\n",
      "3) mtp_weekly_channel.sql\n",
      "4) mtp_weekly_geo.sql\n",
      "5) mtp_weekly_qc.sql\n",
      "6) mtp_weekly_state_token_qc.sql\n",
      "7) mt_dup_qc.sql\n",
      "8) qc_sum_info_id.sql\n",
      "9) rollup_qc.sql\n",
      "\n",
      "Are these the correct SQL scripts you want to run? (y/n) y\n",
      "Starting to run member_qc.sql\n",
      "member_qc.sql - Completed. It took 399.66851 seconds\n",
      "\n",
      "Starting to run mtf_weekly_filter_qc.sql\n",
      "mtf_weekly_filter_qc.sql - Completed. It took 144.22990 seconds\n",
      "\n",
      "Starting to run mtp_weekly_channel.sql\n",
      "mtp_weekly_channel.sql - Completed. It took 33.01503 seconds\n",
      "\n",
      "Starting to run mtp_weekly_geo.sql\n",
      "mtp_weekly_geo.sql - Completed. It took 30.13877 seconds\n",
      "\n",
      "Starting to run mtp_weekly_qc.sql\n",
      "mtp_weekly_qc.sql - Completed. It took 54.14389 seconds\n",
      "\n",
      "Starting to run mtp_weekly_state_token_qc.sql\n",
      "mtp_weekly_state_token_qc.sql - Completed. It took 30.35708 seconds\n",
      "\n",
      "Starting to run mt_dup_qc.sql\n",
      "mt_dup_qc.sql - Completed. It took 104.79595 seconds\n",
      "\n",
      "Starting to run qc_sum_info_id.sql\n",
      "qc_sum_info_id.sql - Completed. It took 58.28304 seconds\n",
      "\n",
      "Starting to run rollup_qc.sql\n",
      "rollup_qc.sql - Completed. It took 1210.17909 seconds\n",
      "\n",
      "All scripts have been run\n",
      "Script End\n"
     ]
    }
   ],
   "source": [
    "%run automate_sql.py"
   ]
  },
  {
   "cell_type": "code",
   "execution_count": 1,
   "metadata": {},
   "outputs": [
    {
     "name": "stdout",
     "output_type": "stream",
     "text": [
      "C:\\Users\\hzheng\\Documents\\koopa\\Adjusted Panel Sales\n",
      "Beginning script in performance\n",
      "Extra Week Identification Complete. It took 1.560633659362793 seconds\n",
      "Extra Week Calendar Generation Starting\n",
      "Extra Week Calendar Generation Complete. It took 0.6093847751617432 seconds\n",
      "Running Drop table script\n",
      "\n",
      "                    drop table if exists sandbox.jzhou_1_index_extra_week CASCADE;\n",
      "                    drop table if exists sandbox.jzhou_2_cs_extra_week CASCADE;\n",
      "                    drop table if exists sandbox.jzhou_3_index_calendar_shift CASCADE;\n",
      "                    drop table if exists sandbox.jzhou_4_cs_calendar_shift CASCADE;\n",
      "                    drop table if exists sandbox.jzhou_5_index_prelim_extra_week CASCADE;\n",
      "                    drop table if exists sandbox.jzhou_6_cs_prelim_extra_week CASCADE;\n",
      "                    \n",
      "Beginning index_extra_week_functionBeginning cs_extra_week_function\n",
      "Beginning index_calendar_shift\n",
      "\n",
      "Beginning cs_calendar_shiftBeginning index_extra_week_function\n",
      "Beginning cs_extra_week_function\n",
      "\n",
      "CS Prior Quarter Complete. It took 80.2542839050293 seconds\n",
      "Index Prior Quarter Complete. It took 82.13678050041199 seconds\n",
      "Index Prior Quarter Complete. It took 142.50237679481506 seconds\n",
      "CS Prior Quarter Complete. It took 143.42639780044556 seconds\n",
      "Index Current Quarter Complete. It took 146.6667537689209 seconds\n",
      "CS Current Quarter Complete. It took 149.14844512939453 seconds\n",
      "Script Complete. It took 152.5244288444519 seconds\n",
      "C:\\Users\\hzheng\\Documents\\koopa\n"
     ]
    }
   ],
   "source": [
    "%cd Adjusted Panel Sales\n",
    "%run multi_thread_automated_modular_adjusted_panel_sales.py\n",
    "# %run emergency_adjusted_panel_sales.py\n",
    "%cd -"
   ]
  },
  {
   "cell_type": "markdown",
   "metadata": {},
   "source": [
    "### Wednesday Morning Scripts (Earnest Product Coverage)\n",
    "Run Wednesday morning, all scripts saved in koopa"
   ]
  },
  {
   "cell_type": "code",
   "execution_count": 7,
   "metadata": {},
   "outputs": [
    {
     "name": "stdout",
     "output_type": "stream",
     "text": [
      "C:\\Users\\hzheng\\Documents\\koopa\\Earnest Product Coverage\n",
      "Importing Coverage Scripts\n",
      "Did you git pull (y/n)?y\n",
      "APQ Active Coverage Complete. Proceeding to APQ Coverage Compare\n",
      "Current delivery date is: 20181122. Prior delivery date is: 20181115. Is this correct (y/n)?y\n",
      "APQ Coverage Comparison Complete. Proceeding to APQ Coverage Format\n",
      "Enter your Performance cluster username:dwhanalyst\n",
      "Enter your Performance cluster password:········\n",
      "APQ Coverage Scripts Complete.\n",
      "Did you git pull (y/n)?y\n",
      "Direct Feed Active Coverage Complete. Proceeding to Direct Feed Coverage Compare\n",
      "Current delivery date is: 20181122. Prior delivery date is: 20181115. Is this correct (y/n)?y\n",
      "Direct Feed Coverage Comparison Complete. Proceeding to Direct Feed Coverage Format\n",
      "Enter your Performance cluster username:dwhanalyst\n",
      "Enter your Performance cluster password:········\n",
      "Direct Feed Coverage Scripts Complete.\n",
      "Enter your Performance cluster username:dwhanalyst\n",
      "Enter your Performance cluster password:········\n",
      "Enter your Performance cluster username:dwhanalyst\n",
      "Enter your Performance cluster password:········\n",
      "Enter your Performance cluster username:dwhanalyst\n",
      "Enter your Performance cluster password:········\n",
      "C:\\Users\\hzheng\\Documents\\koopa\n"
     ]
    }
   ],
   "source": [
    "%cd Earnest Product Coverage\n",
    "%run core_run.py\n",
    "%cd -"
   ]
  },
  {
   "cell_type": "code",
   "execution_count": 2,
   "metadata": {
    "collapsed": true
   },
   "outputs": [
    {
     "name": "stdout",
     "output_type": "stream",
     "text": [
      "C:\\Users\\hzheng\\Documents\\koopa\\Earnest Product Coverage\n",
      "Enter your Performance cluster username:dwhanalyst\n",
      "Enter your Performance cluster password:········\n",
      "C:\\Users\\hzheng\\Documents\\koopa\n"
     ]
    }
   ],
   "source": [
    "# Coverage Fiscal Calendar\n",
    "\n",
    "%cd Earnest Product Coverage\n",
    "%run coverage_fiscal_calendar.py\n",
    "%cd -"
   ]
  },
  {
   "cell_type": "code",
   "execution_count": 3,
   "metadata": {
    "collapsed": true
   },
   "outputs": [
    {
     "name": "stdout",
     "output_type": "stream",
     "text": [
      "C:\\Users\\hzheng\\Documents\\koopa\\Earnest Product Coverage\n",
      "Did you git pull (y/n)?y\n",
      "APQ Active Coverage Complete. Proceeding to APQ Coverage Compare\n",
      "Current delivery date is: 20181101. Prior delivery date is: 20181025. Is this correct (y/n)?y\n",
      "APQ Coverage Comparison Complete. Proceeding to APQ Coverage Format\n",
      "Enter your Performance cluster username:dwhanalyst\n",
      "Enter your Performance cluster password:········\n",
      "APQ Coverage Scripts Complete.\n",
      "C:\\Users\\hzheng\\Documents\\koopa\n"
     ]
    }
   ],
   "source": [
    "# APQ\n",
    "# Produces active coverage list for APQ, change in APQ coverage from last week, and formated APQ active coverage list\n",
    "\n",
    "%cd Earnest Product Coverage\n",
    "%run apq_coverage.py\n",
    "%cd -"
   ]
  },
  {
   "cell_type": "code",
   "execution_count": 4,
   "metadata": {
    "collapsed": true
   },
   "outputs": [
    {
     "name": "stdout",
     "output_type": "stream",
     "text": [
      "C:\\Users\\hzheng\\Documents\\koopa\\Earnest Product Coverage\n",
      "Did you git pull (y/n)?y\n",
      "Direct Feed Active Coverage Complete. Proceeding to Direct Feed Coverage Compare\n",
      "Current delivery date is: 20181101. Prior delivery date is: 20181025. Is this correct (y/n)?y\n",
      "Direct Feed Coverage Comparison Complete. Proceeding to Direct Feed Coverage Format\n",
      "Enter your Performance cluster username:dwhanalyst\n",
      "Enter your Performance cluster password:········\n",
      "Direct Feed Coverage Scripts Complete.\n",
      "C:\\Users\\hzheng\\Documents\\koopa\n"
     ]
    }
   ],
   "source": [
    "# DF\n",
    "# Produces active coverage list for DF, change in DF coverage from last week, and formated DF active coverage list\n",
    "\n",
    "%cd Earnest Product Coverage\n",
    "%run direct_feed_coverage.py\n",
    "%cd -"
   ]
  },
  {
   "cell_type": "code",
   "execution_count": 5,
   "metadata": {
    "collapsed": true
   },
   "outputs": [
    {
     "name": "stdout",
     "output_type": "stream",
     "text": [
      "C:\\Users\\hzheng\\Documents\\koopa\\Earnest Product Coverage\n",
      "Enter your Performance cluster username:dwhanalyst\n",
      "Enter your Performance cluster password:········\n",
      "C:\\Users\\hzheng\\Documents\\koopa\n"
     ]
    }
   ],
   "source": [
    "# CSubcriber\n",
    "# Active Coverage List for Consistent Subscriber\n",
    "# Not adjusted for new Consistent Subscriber method\n",
    "%cd Earnest Product Coverage\n",
    "%run sub_active_coverage.py\n",
    "%cd -"
   ]
  },
  {
   "cell_type": "code",
   "execution_count": 8,
   "metadata": {
    "scrolled": true
   },
   "outputs": [
    {
     "name": "stdout",
     "output_type": "stream",
     "text": [
      "C:\\Users\\hzheng\\Documents\\koopa\\Earnest Product Coverage\n",
      "Did you git pull (y/n)?y\n",
      "Enter your Performance cluster username:dwhanalyst\n",
      "Enter your Performance cluster password:········\n",
      "APQ and Subs Merged Coverage Script Complete.\n",
      "C:\\Users\\hzheng\\Documents\\koopa\n"
     ]
    }
   ],
   "source": [
    "# Query and CSubscriber\n",
    "# Creates an excel with both coverage universes merged into one tab for Collin\n",
    "%cd Earnest Product Coverage\n",
    "%run apq_subs_coverage_merged.py\n",
    "%cd -"
   ]
  },
  {
   "cell_type": "code",
   "execution_count": 14,
   "metadata": {},
   "outputs": [
    {
     "name": "stdout",
     "output_type": "stream",
     "text": [
      "C:\\Users\\hzheng\\Documents\\koopa\\Earnest Product Coverage\n",
      "Enter your Performance cluster username:dwhanalyst\n",
      "Enter your Performance cluster password:········\n",
      "C:\\Users\\hzheng\\Documents\\koopa\n"
     ]
    }
   ],
   "source": [
    "# Script for Marcela to show backtest metrics for our coverage universe\n",
    "%cd Earnest Product Coverage\n",
    "%run kpi_backtest_metrics.py\n",
    "%cd -"
   ]
  },
  {
   "cell_type": "markdown",
   "metadata": {},
   "source": [
    "### 4m Calendar Roll\n",
    "Run on Fridays late morning/early afternoon"
   ]
  },
  {
   "cell_type": "code",
   "execution_count": 1,
   "metadata": {},
   "outputs": [],
   "source": [
    "%run 4m_calendar_roll.py"
   ]
  },
  {
   "cell_type": "code",
   "execution_count": 4,
   "metadata": {},
   "outputs": [
    {
     "name": "stdout",
     "output_type": "stream",
     "text": [
      "C:\\Users\\hzheng\\Documents\\koopa\\EAD_ex_eng\n",
      "Running python base_table_gen.py\n",
      "Running python normalization_table.py\n",
      "Running python ML_model.py\n",
      "End\n",
      "C:\\Users\\hzheng\\Documents\\koopa\n"
     ]
    }
   ],
   "source": [
    "%cd EAD_ex_eng\n",
    "%run core_run.py\n",
    "# %run base_table_gen.py\n",
    "# %run normalization_table.py\n",
    "# %run ML_model.py\n",
    "%cd -"
   ]
  },
  {
   "cell_type": "code",
   "execution_count": null,
   "metadata": {},
   "outputs": [],
   "source": []
  }
 ],
 "metadata": {
  "kernelspec": {
   "display_name": "Python 3",
   "language": "python",
   "name": "python3"
  },
  "language_info": {
   "codemirror_mode": {
    "name": "ipython",
    "version": 3
   },
   "file_extension": ".py",
   "mimetype": "text/x-python",
   "name": "python",
   "nbconvert_exporter": "python",
   "pygments_lexer": "ipython3",
   "version": "3.6.5"
  }
 },
 "nbformat": 4,
 "nbformat_minor": 2
}
